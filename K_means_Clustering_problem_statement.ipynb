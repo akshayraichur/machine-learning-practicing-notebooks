{
  "nbformat": 4,
  "nbformat_minor": 0,
  "metadata": {
    "colab": {
      "name": "K-means Clustering_problem statement.ipynb",
      "provenance": [],
      "authorship_tag": "ABX9TyPuk0tKmgzIj1k22Xu53v4U",
      "include_colab_link": true
    },
    "kernelspec": {
      "name": "python3",
      "display_name": "Python 3"
    }
  },
  "cells": [
    {
      "cell_type": "markdown",
      "metadata": {
        "id": "view-in-github",
        "colab_type": "text"
      },
      "source": [
        "<a href=\"https://colab.research.google.com/github/sourabhkulkarni-007/machine-learning-practicing-notebooks/blob/master/K_means_Clustering_problem_statement.ipynb\" target=\"_parent\"><img src=\"https://colab.research.google.com/assets/colab-badge.svg\" alt=\"Open In Colab\"/></a>"
      ]
    },
    {
      "cell_type": "code",
      "metadata": {
        "id": "GbORdT4o5V6n",
        "colab_type": "code",
        "colab": {}
      },
      "source": [
        "'''\n",
        "problem statement: \n",
        "wallmart store location optimization using k-means clustering \n",
        "\n",
        "'''"
      ],
      "execution_count": 0,
      "outputs": []
    },
    {
      "cell_type": "code",
      "metadata": {
        "id": "PyvDK5zG6rqv",
        "colab_type": "code",
        "outputId": "87273b6c-d526-469b-e7f7-97f15803be4d",
        "colab": {
          "base_uri": "https://localhost:8080/",
          "height": 70
        }
      },
      "source": [
        "\n",
        "\n",
        "#import the libraries'\n",
        "import matplotlib.pyplot as plt\n",
        "import seaborn as sns\n",
        "import numpy as np\n",
        "\n",
        "#importing the dataset'\n",
        "#inbuilt dataset from sklearn\n",
        "from sklearn.datasets.samples_generator import make_blobs"
      ],
      "execution_count": 0,
      "outputs": [
        {
          "output_type": "stream",
          "text": [
            "/usr/local/lib/python3.6/dist-packages/statsmodels/tools/_testing.py:19: FutureWarning: pandas.util.testing is deprecated. Use the functions in the public API at pandas.testing instead.\n",
            "  import pandas.util.testing as tm\n"
          ],
          "name": "stderr"
        }
      ]
    },
    {
      "cell_type": "code",
      "metadata": {
        "id": "EdeBloMyAyeG",
        "colab_type": "code",
        "outputId": "b6ace0ea-33cb-49cb-ca3a-59798a045fd4",
        "colab": {
          "base_uri": "https://localhost:8080/",
          "height": 282
        }
      },
      "source": [
        "X,Y_true = make_blobs(n_samples=100,centers=4,cluster_std=0.60,random_state=0)\n",
        "plt.scatter(X[:,0],X[:,1],s=50)"
      ],
      "execution_count": 0,
      "outputs": [
        {
          "output_type": "execute_result",
          "data": {
            "text/plain": [
              "<matplotlib.collections.PathCollection at 0x7fb99597c630>"
            ]
          },
          "metadata": {
            "tags": []
          },
          "execution_count": 3
        },
        {
          "output_type": "display_data",
          "data": {
            "image/png": "[encoded data removed]",
            "text/plain": [
              "<Figure size 432x288 with 1 Axes>"
            ]
          },
          "metadata": {
            "tags": [],
            "needs_background": "light"
          }
        }
      ]
    },
    {
      "cell_type": "code",
      "metadata": {
        "id": "XcwxBHzqBMkE",
        "colab_type": "code",
        "outputId": "92809c73-d713-4b94-f359-1a7a9de36558",
        "colab": {
          "base_uri": "https://localhost:8080/",
          "height": 101
        }
      },
      "source": [
        "#lets work with model for k-means clustering \n",
        "from sklearn.cluster import KMeans\n",
        "\n",
        "kmeans = KMeans(n_clusters=4)\n",
        "kmeans.fit(X)\n",
        "y_kmeans = kmeans.predict(X)\n",
        "y_kmeans"
      ],
      "execution_count": 0,
      "outputs": [
        {
          "output_type": "execute_result",
          "data": {
            "text/plain": [
              "array([0, 1, 0, 0, 0, 0, 3, 1, 0, 1, 1, 1, 1, 1, 1, 2, 2, 0, 3, 2, 0, 1,\n",
              "       3, 2, 0, 3, 0, 0, 2, 2, 2, 1, 2, 2, 3, 0, 1, 2, 1, 3, 0, 3, 1, 3,\n",
              "       3, 1, 2, 3, 0, 0, 0, 2, 3, 3, 3, 1, 1, 2, 2, 1, 1, 2, 2, 0, 2, 1,\n",
              "       3, 3, 2, 0, 1, 2, 0, 1, 0, 0, 3, 3, 2, 2, 2, 1, 3, 0, 2, 3, 2, 2,\n",
              "       0, 0, 0, 3, 0, 3, 3, 1, 1, 3, 1, 0], dtype=int32)"
            ]
          },
          "metadata": {
            "tags": []
          },
          "execution_count": 4
        }
      ]
    },
    {
      "cell_type": "code",
      "metadata": {
        "id": "_OfJq7y7CSQn",
        "colab_type": "code",
        "outputId": "d8f02622-e452-42d4-ca50-399a16b75dd8",
        "colab": {
          "base_uri": "https://localhost:8080/",
          "height": 282
        }
      },
      "source": [
        "#lets implement trained model\n",
        "from sklearn.metrics import pairwise_distances_argmin\n",
        "\n",
        "\n",
        "def find_clusters(X,n_clusters,rseed=2):\n",
        "  #randomly choose clusters\n",
        "  rng  = np.random.RandomState(rseed)\n",
        "  i = rng.permutation(X.shape[0])[:n_clusters]\n",
        "  centers = X[i]\n",
        "\n",
        "\n",
        "  while True:\n",
        "    #lets assign the labels based on the closet centers\n",
        "    labels = pairwise_distances_argmin(X,centers)\n",
        "\n",
        "\n",
        "\n",
        "    #find the new centers from the means of point \n",
        "    new_centers = np.array([X[labels==i].mean(0) for i in range(n_clusters)])\n",
        "\n",
        "    #check for convergence\n",
        "    if(np.all(centers == new_centers)):\n",
        "      break;\n",
        "\n",
        "    centers = new_centers\n",
        "    return(centers,labels)  \n",
        "centers,labels = find_clusters(X,4)\n",
        "plt.scatter(X[:,0],X[:,1],c=y_kmeans,s=50,cmap='viridis')\n",
        "\n",
        "\n",
        "#plot the centers\n",
        "plt.scatter(centers[:,0],centers[:,1],c = 'red',s=200, alpha=0.50)"
      ],
      "execution_count": 0,
      "outputs": [
        {
          "output_type": "execute_result",
          "data": {
            "text/plain": [
              "<matplotlib.collections.PathCollection at 0x7fb98de79588>"
            ]
          },
          "metadata": {
            "tags": []
          },
          "execution_count": 9
        },
        {
          "output_type": "display_data",
          "data": {
            "image/png": "[encoded data removed]",
            "text/plain": [
              "<Figure size 432x288 with 1 Axes>"
            ]
          },
          "metadata": {
            "tags": [],
            "needs_background": "light"
          }
        }
      ]
    },
    {
      "cell_type": "code",
      "metadata": {
        "id": "DVpCWSQPDnh1",
        "colab_type": "code",
        "colab": {}
      },
      "source": [
        ""
      ],
      "execution_count": 0,
      "outputs": []
    }
  ]
}